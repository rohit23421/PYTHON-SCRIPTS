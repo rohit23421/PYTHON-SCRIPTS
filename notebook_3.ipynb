{
 "cells": [
  {
   "cell_type": "markdown",
   "metadata": {},
   "source": [
    "METHODS AND FUNCTIONS\n",
    "\n",
    "Built-in objects in python have a variety of methods we can\n",
    "use"
   ]
  },
  {
   "cell_type": "code",
   "execution_count": 1,
   "metadata": {},
   "outputs": [],
   "source": [
    "mylist = [1,2,3]"
   ]
  },
  {
   "cell_type": "code",
   "execution_count": 2,
   "metadata": {},
   "outputs": [],
   "source": [
    "mylist.append(4)"
   ]
  },
  {
   "cell_type": "code",
   "execution_count": 3,
   "metadata": {},
   "outputs": [
    {
     "data": {
      "text/plain": [
       "[1, 2, 3, 4]"
      ]
     },
     "execution_count": 3,
     "metadata": {},
     "output_type": "execute_result"
    }
   ],
   "source": [
    "mylist"
   ]
  },
  {
   "cell_type": "code",
   "execution_count": 4,
   "metadata": {},
   "outputs": [
    {
     "data": {
      "text/plain": [
       "4"
      ]
     },
     "execution_count": 4,
     "metadata": {},
     "output_type": "execute_result"
    }
   ],
   "source": [
    "mylist.pop()"
   ]
  },
  {
   "cell_type": "code",
   "execution_count": 5,
   "metadata": {},
   "outputs": [
    {
     "data": {
      "text/plain": [
       "[1, 2, 3]"
      ]
     },
     "execution_count": 5,
     "metadata": {},
     "output_type": "execute_result"
    }
   ],
   "source": [
    "mylist"
   ]
  },
  {
   "cell_type": "code",
   "execution_count": 6,
   "metadata": {},
   "outputs": [
    {
     "name": "stdout",
     "output_type": "stream",
     "text": [
      "Help on built-in function insert:\n",
      "\n",
      "insert(index, object, /) method of builtins.list instance\n",
      "    Insert object before index.\n",
      "\n"
     ]
    }
   ],
   "source": [
    "# to know what a method is about we can hit\n",
    "\n",
    "help(mylist.insert)\n",
    "# this works in everywhere \n",
    "\n",
    "# for jupyter notebook we canuse (shift+tab) to know"
   ]
  },
  {
   "cell_type": "markdown",
   "metadata": {},
   "source": [
    "Creating clean repeatable code is a key part of becoming an effective programmer\n",
    "\n",
    "FUNCTIONS allow us to create blocks of code that can be easily executed many times, without needing to constantly rewrite the entire block of code\n",
    "\n",
    "FUNCTIONS will be a huge leap forward in our capabilities as a python programmer\n",
    "This means that the problems we are able to solve can also be a lot harder\n",
    "It is very important to get practice combine everything we've done so far(control flow,loops,etc) with functons to become an effective programmer"
   ]
  },
  {
   "cell_type": "markdown",
   "metadata": {},
   "source": [
    "*******************\n",
    "def keyword\n",
    "*******************\n",
    "\n",
    "this allows us to create a function with python\n",
    "\n",
    "Creating a function requires a very specific syntax,including the (def) keyword, correct indentation, and proper structure"
   ]
  },
  {
   "cell_type": "markdown",
   "metadata": {},
   "source": [
    "********************\n",
    "********************\n",
    "\n",
    "def keyword \n",
    "\n",
    "here the (def) keyword tells python this is a fucntion\n",
    "and then we have the name of the function we like but we follow the snake casing,snake casing is all lowercase with underscores between words and this is by convention and then after the name of the function,we have (),where we can pass in arguments/parameters into the function then comes a colon (:),which indicates an upcoming indented block.Everything indented is then \"inside\" the function\n",
    "\n",
    "then we can add:-\n",
    "\n",
    "a multi-line string to describe a function so that whenever someone else reads it they can understand what it is doing,we can add the multi-line by tripple-inverted-comma's (''' fucntion explanation '''),this is just a statement/comment\n",
    "\n",
    "NOTE: everything inside the fucntion is indented\n",
    "\n",
    "then we can add the code of the fucntion\n",
    "\n",
    "ex- \n",
    "        def name_of_function():\n",
    "            '''\n",
    "            fucntion explanation\n",
    "            '''\n",
    "            print(\"Hello\")\n",
    "            \n",
    "Fucntion can then be executed/called to see the result\n",
    ">>> name_of_fucntion()\n",
    "\n",
    "in this case it will print \n",
    "\n",
    ">>> Hello\n",
    "\n",
    "\n",
    "Functions can get complex like passing a variable in the ()\n",
    "\n",
    "ex- \n",
    "\n",
    "Suppose we created a variable of (name) and then we passed this variable to the\n",
    "fucntion like shown below to get the output(as requirment)\n",
    "\n",
    "        def name_of_function(name):\n",
    "            '''\n",
    "            fucntion explanation\n",
    "            '''\n",
    "            print(\"Hello\" + name)\n",
    "\n",
    "\n",
    "Fucntion can then be executed/called to see the result\n",
    ">>> name_of_fucntion(\"MARK\")\n",
    "\n",
    "in this case it will print\n",
    "\n",
    ">>> Hello Mark\n",
    "\n",
    "as when we called the function we passed the variables value as (\"MARK\") which here is a string so it then \n",
    "prints (\"Hello\" + name), in place of name the string (MARK),so we can pass any string here\n",
    "\n",
    "But typically,we use the (return) keyword to send back the result of the function, instead of just printing it out\n",
    "\n",
    "(return) allows us to assign the output of the function to a new variable\n",
    "\n",
    "ex- \n",
    "\n",
    "        def add_function(num_1,num_2):\n",
    "            return num_1 + num_2\n",
    "            \n",
    "Fucntion can then be executed/called to see the result\n",
    "and here as we used the (return) keyword we can save it \n",
    "in a variable like:-\n",
    "\n",
    ">>> result = add_function(1,2)\n",
    "\n",
    "and the value we got from the function is saved in the \n",
    "variable(result), so we can now use it whenever we want\n",
    "\n",
    "in this case when w print it will give\n",
    "\n",
    ">>> print(result)\n",
    "\n",
    ">>> 3\n"
   ]
  },
  {
   "cell_type": "code",
   "execution_count": 3,
   "metadata": {},
   "outputs": [],
   "source": [
    "def say_hello():\n",
    "    print(\"hello\")\n",
    "    print(\"how are you\")\n",
    "    print(\"i am fine\")"
   ]
  },
  {
   "cell_type": "code",
   "execution_count": 4,
   "metadata": {},
   "outputs": [
    {
     "name": "stdout",
     "output_type": "stream",
     "text": [
      "hello\n",
      "how are you\n",
      "i am fine\n"
     ]
    }
   ],
   "source": [
    "# when we call function need to add on ()\n",
    "say_hello()"
   ]
  },
  {
   "cell_type": "code",
   "execution_count": 5,
   "metadata": {},
   "outputs": [],
   "source": [
    "# here we pass in a variable (name) and then add\n",
    "# it using string formating in the print statement\n",
    "# so it will be like \n",
    "\n",
    "def say_hello_1(name):\n",
    "    print(f'Hello {name}')"
   ]
  },
  {
   "cell_type": "code",
   "execution_count": 8,
   "metadata": {},
   "outputs": [
    {
     "name": "stdout",
     "output_type": "stream",
     "text": [
      "Hello MARK\n"
     ]
    }
   ],
   "source": [
    "# so when we call the function by passing in the \n",
    "# value for variable \n",
    "# so we need to pass an argument to fix this \n",
    "#     this can be done in two ways \n",
    "#         1st way is shown below \n",
    "\n",
    "say_hello_1('MARK')"
   ]
  },
  {
   "cell_type": "code",
   "execution_count": 9,
   "metadata": {},
   "outputs": [],
   "source": [
    "# 2nd way if we dont pass an argument we can organise \n",
    "# the variable like\n",
    "\n",
    "def say_hello_1(name='Default'):\n",
    "    print(f'Hello {name}')"
   ]
  },
  {
   "cell_type": "code",
   "execution_count": 11,
   "metadata": {},
   "outputs": [
    {
     "name": "stdout",
     "output_type": "stream",
     "text": [
      "Hello Default\n"
     ]
    }
   ],
   "source": [
    "# now call it without passing argument,gives no error\n",
    "\n",
    "say_hello_1()"
   ]
  },
  {
   "cell_type": "code",
   "execution_count": 12,
   "metadata": {},
   "outputs": [],
   "source": [
    "# now using the return keyword\n",
    "\n",
    "def add_num(num_1,num_2):\n",
    "    return num_1 + num_2"
   ]
  },
  {
   "cell_type": "code",
   "execution_count": 83,
   "metadata": {},
   "outputs": [],
   "source": [
    "# so advantage of return over print is that when we\n",
    "# return it we can assign the value to a variable\n",
    "# like here we assign it in result\n",
    "\n",
    "result = add_num(10,20)"
   ]
  },
  {
   "cell_type": "code",
   "execution_count": 84,
   "metadata": {},
   "outputs": [
    {
     "data": {
      "text/plain": [
       "30"
      ]
     },
     "execution_count": 84,
     "metadata": {},
     "output_type": "execute_result"
    }
   ],
   "source": [
    "# now rather than calling the function we can directly\n",
    "# get the value from result \n",
    "\n",
    "result"
   ]
  },
  {
   "cell_type": "code",
   "execution_count": 16,
   "metadata": {},
   "outputs": [],
   "source": [
    "# example to see the difference between print & return\n",
    "# we declare two functions 1st being the only print\n",
    "\n",
    "def print_result(a,b):\n",
    "    print(a+b)"
   ]
  },
  {
   "cell_type": "code",
   "execution_count": 17,
   "metadata": {},
   "outputs": [],
   "source": [
    "# now we declare the return function\n",
    "\n",
    "def return_result(a,b):\n",
    "    return a+b"
   ]
  },
  {
   "cell_type": "code",
   "execution_count": 18,
   "metadata": {},
   "outputs": [
    {
     "name": "stdout",
     "output_type": "stream",
     "text": [
      "30\n"
     ]
    }
   ],
   "source": [
    "# if we try to save the value of print_result function\n",
    "# when we call it, we wont be able to do do as we can\n",
    "# see here when we save/assign it to (result_1) \n",
    "# it just prints the value returned by the print_result\n",
    "# function but doesnt gives any output as its not being\n",
    "# saved in result_1 \n",
    "\n",
    "result_1 = print_result(10,20)"
   ]
  },
  {
   "cell_type": "code",
   "execution_count": 19,
   "metadata": {},
   "outputs": [],
   "source": [
    "result_1"
   ]
  },
  {
   "cell_type": "code",
   "execution_count": 20,
   "metadata": {},
   "outputs": [
    {
     "data": {
      "text/plain": [
       "NoneType"
      ]
     },
     "execution_count": 20,
     "metadata": {},
     "output_type": "execute_result"
    }
   ],
   "source": [
    "# and when we check by running result we get nothing \n",
    "# means type of result_1 is NoneType\n",
    "\n",
    "type(result_1)"
   ]
  },
  {
   "cell_type": "code",
   "execution_count": 21,
   "metadata": {},
   "outputs": [],
   "source": [
    "# so if we use the return_result function we can save\n",
    "# it in variable and get it later\n",
    "\n",
    "result_2 = return_result(10,20)"
   ]
  },
  {
   "cell_type": "code",
   "execution_count": 24,
   "metadata": {},
   "outputs": [
    {
     "data": {
      "text/plain": [
       "30"
      ]
     },
     "execution_count": 24,
     "metadata": {},
     "output_type": "execute_result"
    }
   ],
   "source": [
    "# we ca get the assigned value of the function\n",
    "result_2"
   ]
  },
  {
   "cell_type": "code",
   "execution_count": 25,
   "metadata": {},
   "outputs": [],
   "source": [
    "# also when we are debugging we can use a code like \n",
    "# this to print the result and also return it,so that\n",
    "# we can understand that the value we are returning\n",
    "# and if using anywhere else if what \n",
    "\n",
    "def myfunc(a,b):\n",
    "    print(a+b)\n",
    "    return a+b"
   ]
  },
  {
   "cell_type": "code",
   "execution_count": 26,
   "metadata": {},
   "outputs": [
    {
     "name": "stdout",
     "output_type": "stream",
     "text": [
      "30\n"
     ]
    }
   ],
   "source": [
    "# when we try to store the function in a variable we\n",
    "# can easily do this and get the printed value\n",
    "\n",
    "result_3 = myfunc(10,20)"
   ]
  },
  {
   "cell_type": "code",
   "execution_count": 27,
   "metadata": {},
   "outputs": [
    {
     "data": {
      "text/plain": [
       "30"
      ]
     },
     "execution_count": 27,
     "metadata": {},
     "output_type": "execute_result"
    }
   ],
   "source": [
    "# also when we call the variable where we saved the \n",
    "# functions return value,we get the same reply but as\n",
    "# an output\n",
    "\n",
    "result_3"
   ]
  },
  {
   "cell_type": "code",
   "execution_count": 28,
   "metadata": {},
   "outputs": [],
   "source": [
    "# also one of the most important thing to keep in mind \n",
    "# is that we are nit defining any datatype when we \n",
    "# create a function or call it as python is dynamically\n",
    "# typed so we dont do that and we save a lot of time\n",
    "# for typing all this BUT the main thing to stress \n",
    "# about is that beacuse it is dynamically typed when we\n",
    "# assign a function for a specific work we expect it to\n",
    "# do that but due to its dynamic property we dont \n",
    "# declare that the function will do this or that step\n",
    "# for example if we add two numbers \n",
    "\n",
    "def sum_numbers(num1,num2):\n",
    "    return num1+num2"
   ]
  },
  {
   "cell_type": "code",
   "execution_count": 29,
   "metadata": {},
   "outputs": [
    {
     "data": {
      "text/plain": [
       "30"
      ]
     },
     "execution_count": 29,
     "metadata": {},
     "output_type": "execute_result"
    }
   ],
   "source": [
    "# when we call this fucntion by passing parameters\n",
    "# we get \n",
    "\n",
    "sum_numbers(10,20)"
   ]
  },
  {
   "cell_type": "code",
   "execution_count": 30,
   "metadata": {},
   "outputs": [
    {
     "data": {
      "text/plain": [
       "'1020'"
      ]
     },
     "execution_count": 30,
     "metadata": {},
     "output_type": "execute_result"
    }
   ],
   "source": [
    "# but as we didnt declared any datatype in python\n",
    "# this case can be like:-\n",
    "\n",
    "sum_numbers('10','20')\n",
    "\n",
    "# as we passed a string here while calling the function\n",
    "# not a int value,so python considers it as a string \n",
    "# and due to the (+) sign, it concadinates the string\n",
    "# together and gives a output as a string\n",
    "# that here is '1020' ,which is not the required output\n",
    "# so we will have to look into this later"
   ]
  },
  {
   "cell_type": "code",
   "execution_count": 32,
   "metadata": {},
   "outputs": [],
   "source": [
    "# some example of logic with functions\n",
    "# two ways of doing this same code\n",
    "# 1st ways:-\n",
    "def even_check(number):\n",
    "    result = number % 2 == 0 \n",
    "    return result\n",
    "\n",
    "# 2nd way\n",
    "#              def even_check(number):\n",
    "#                  return number % 2 == 0\n",
    "\n",
    "# both gives sae output"
   ]
  },
  {
   "cell_type": "code",
   "execution_count": 33,
   "metadata": {},
   "outputs": [
    {
     "data": {
      "text/plain": [
       "True"
      ]
     },
     "execution_count": 33,
     "metadata": {},
     "output_type": "execute_result"
    }
   ],
   "source": [
    "# call the function here\n",
    "\n",
    "even_check(20)"
   ]
  },
  {
   "cell_type": "code",
   "execution_count": 34,
   "metadata": {},
   "outputs": [
    {
     "data": {
      "text/plain": [
       "False"
      ]
     },
     "execution_count": 34,
     "metadata": {},
     "output_type": "execute_result"
    }
   ],
   "source": [
    "even_check(21)"
   ]
  },
  {
   "cell_type": "code",
   "execution_count": 35,
   "metadata": {},
   "outputs": [],
   "source": [
    "# to check even inside a list\n",
    "\n",
    "def check_even_list(num_list):\n",
    "    \n",
    "    # what we are doing is that we passed a list to the\n",
    "    # function so when we call it we can get the output\n",
    "    # then inside the function we started a (for) loop\n",
    "    # to check through the list,that if we find an even\n",
    "    # number we return the number or else just use pass\n",
    "    # and then check again inside the list till the \n",
    "    # loop runs\n",
    "    \n",
    "    for number in num_list:\n",
    "        if number % 2 == 0:\n",
    "            return True\n",
    "        else: \n",
    "            pass"
   ]
  },
  {
   "cell_type": "code",
   "execution_count": 36,
   "metadata": {},
   "outputs": [],
   "source": [
    "# if we try to check it with passing odd numbers \n",
    "\n",
    "check_even_list([1,3,5])\n",
    "\n",
    "# nothing is returned "
   ]
  },
  {
   "cell_type": "code",
   "execution_count": 37,
   "metadata": {},
   "outputs": [
    {
     "data": {
      "text/plain": [
       "True"
      ]
     },
     "execution_count": 37,
     "metadata": {},
     "output_type": "execute_result"
    }
   ],
   "source": [
    "# now passing even numbers\n",
    "\n",
    "check_even_list([2,4,5])"
   ]
  },
  {
   "cell_type": "code",
   "execution_count": 38,
   "metadata": {},
   "outputs": [
    {
     "data": {
      "text/plain": [
       "True"
      ]
     },
     "execution_count": 38,
     "metadata": {},
     "output_type": "execute_result"
    }
   ],
   "source": [
    "check_even_list([2,1,1,1,])"
   ]
  },
  {
   "cell_type": "code",
   "execution_count": 39,
   "metadata": {},
   "outputs": [
    {
     "data": {
      "text/plain": [
       "True"
      ]
     },
     "execution_count": 39,
     "metadata": {},
     "output_type": "execute_result"
    }
   ],
   "source": [
    "check_even_list([1,1,1,2])"
   ]
  },
  {
   "cell_type": "code",
   "execution_count": 41,
   "metadata": {},
   "outputs": [],
   "source": [
    "# now if we try to return something when we dont have\n",
    "# an even number, then most of the mistakes are made\n",
    "# when we directly change the (pass) to (return)\n",
    "# but this is wrong as beacuse (return) itself \n",
    "# breaks the function and returns the value so instead\n",
    "# so this way of hitting (return) is worng\n",
    "\n",
    "# if we do it in code \n",
    "\n",
    "def check_even_list(num_list):\n",
    "    for number in num_list:\n",
    "        if number % 2 == 0:\n",
    "            return True\n",
    "        else: \n",
    "            return False "
   ]
  },
  {
   "cell_type": "code",
   "execution_count": 42,
   "metadata": {},
   "outputs": [
    {
     "data": {
      "text/plain": [
       "False"
      ]
     },
     "execution_count": 42,
     "metadata": {},
     "output_type": "execute_result"
    }
   ],
   "source": [
    "# so when we call it by passing argument it gives only\n",
    "# and only one answer either True/False although the \n",
    "# list might contain even number, so what happens is \n",
    "# as soon as the function runs it check the first\n",
    "# value and if if even gices true BUT if the first\n",
    "# value is odd and list has even number also, still it\n",
    "# return false\n",
    "\n",
    "check_even_list([1,3,5])\n",
    "\n",
    "# this case it gives false as there is no even"
   ]
  },
  {
   "cell_type": "code",
   "execution_count": 43,
   "metadata": {},
   "outputs": [
    {
     "data": {
      "text/plain": [
       "False"
      ]
     },
     "execution_count": 43,
     "metadata": {},
     "output_type": "execute_result"
    }
   ],
   "source": [
    "# but this case it also gives false although it has\n",
    "# even number in the list\n",
    "check_even_list([1,2,5])"
   ]
  },
  {
   "cell_type": "code",
   "execution_count": 44,
   "metadata": {},
   "outputs": [],
   "source": [
    "# so we need to change the code\n",
    "\n",
    "def check_even_list(num_list):\n",
    "    for number in num_list:\n",
    "        if number % 2 == 0:\n",
    "            return True\n",
    "        else: \n",
    "            pass\n",
    "    return False\n",
    "\n",
    "# so instead of using the (return) in the else we need\n",
    "# to indent it to use in the last of (for) loop \n",
    "# like it check all the numbers and (if) there is even\n",
    "# it returns (true) and function terminates directly \n",
    "# and if there is no even no then come to (else) and \n",
    "# then (pass) means go back to the loop and again check\n",
    "# the (if) statement again until the condition is met\n",
    "# or the list is empty\n",
    "# so if the list condition doesnt matches for (if)\n",
    "# then it goes to else to (pass) and then when list\n",
    "# is empty,nothing to check it (return) False \n",
    "# thats why it is indented to the loop so that when\n",
    "# nothing is met if comes out of the loop and comes out\n",
    "# of the lop and goes to next line it reads the \n",
    "# (return) and terminates the function\n",
    "# also it doent mean that we always need to follow like\n",
    "# this, only in this case or cases like this we needed\n",
    "# this type of indentation so that there's no worng O/P"
   ]
  },
  {
   "cell_type": "code",
   "execution_count": 45,
   "metadata": {},
   "outputs": [
    {
     "data": {
      "text/plain": [
       "True"
      ]
     },
     "execution_count": 45,
     "metadata": {},
     "output_type": "execute_result"
    }
   ],
   "source": [
    "check_even_list([1,2,5])"
   ]
  },
  {
   "cell_type": "code",
   "execution_count": 46,
   "metadata": {},
   "outputs": [
    {
     "data": {
      "text/plain": [
       "False"
      ]
     },
     "execution_count": 46,
     "metadata": {},
     "output_type": "execute_result"
    }
   ],
   "source": [
    "check_even_list([1,3,5])"
   ]
  },
  {
   "cell_type": "code",
   "execution_count": 47,
   "metadata": {},
   "outputs": [],
   "source": [
    "# now if we want to check the even numbers and return \n",
    "# the value of even numbers and if there is no even \n",
    "# numbers,we will return an empty list \n",
    "\n",
    "def check_even_list(num_list):\n",
    "    # return all the even numbers in  a list\n",
    "    \n",
    "    # placeholder variables,at top of the function\n",
    "    # so we made an variable to store the numbers(list)\n",
    "    # and when we check the conditions we (append) it \n",
    "    # to this varable if it matches the requirement\n",
    "    \n",
    "    even_numbers = [] \n",
    "    for number in num_list:\n",
    "        if number % 2 == 0:\n",
    "            even_numbers.append(number)\n",
    "        else: \n",
    "            pass\n",
    "    return even_numbers\n",
    "\n",
    "    # at last we reutrn the variable which had an\n",
    "    # empty list and if the conditions are matched it\n",
    "    # will apppend the numbers in the empty list and\n",
    "    # if it is unmatched it returns the same empty list"
   ]
  },
  {
   "cell_type": "code",
   "execution_count": 48,
   "metadata": {},
   "outputs": [
    {
     "data": {
      "text/plain": [
       "[2, 4]"
      ]
     },
     "execution_count": 48,
     "metadata": {},
     "output_type": "execute_result"
    }
   ],
   "source": [
    "check_even_list([1,2,3,4,5])"
   ]
  },
  {
   "cell_type": "code",
   "execution_count": 49,
   "metadata": {},
   "outputs": [
    {
     "data": {
      "text/plain": [
       "[]"
      ]
     },
     "execution_count": 49,
     "metadata": {},
     "output_type": "execute_result"
    }
   ],
   "source": [
    "check_even_list([1,3,5])"
   ]
  },
  {
   "cell_type": "markdown",
   "metadata": {},
   "source": [
    "TUPLE UNPACKING WITH PYTHON FUNCTIONS"
   ]
  },
  {
   "cell_type": "code",
   "execution_count": 50,
   "metadata": {},
   "outputs": [],
   "source": [
    "stock_prices = [('APPL',200),('GOOG',400),('MSFT',100)]"
   ]
  },
  {
   "cell_type": "code",
   "execution_count": 51,
   "metadata": {},
   "outputs": [
    {
     "name": "stdout",
     "output_type": "stream",
     "text": [
      "('APPL', 200)\n",
      "('GOOG', 400)\n",
      "('MSFT', 100)\n"
     ]
    }
   ],
   "source": [
    "# to directly print the tuple\n",
    "\n",
    "for item in stock_prices:\n",
    "    print(item)"
   ]
  },
  {
   "cell_type": "code",
   "execution_count": 52,
   "metadata": {},
   "outputs": [
    {
     "name": "stdout",
     "output_type": "stream",
     "text": [
      "APPL\n",
      "GOOG\n",
      "MSFT\n"
     ]
    }
   ],
   "source": [
    "# we can also do tuple unpacking\n",
    "\n",
    "for ticket,price in stock_prices:\n",
    "    print(ticket)"
   ]
  },
  {
   "cell_type": "code",
   "execution_count": 53,
   "metadata": {},
   "outputs": [
    {
     "name": "stdout",
     "output_type": "stream",
     "text": [
      "200\n",
      "400\n",
      "100\n"
     ]
    }
   ],
   "source": [
    "for ticket,price in stock_prices:\n",
    "    print(price)"
   ]
  },
  {
   "cell_type": "code",
   "execution_count": 55,
   "metadata": {},
   "outputs": [
    {
     "name": "stdout",
     "output_type": "stream",
     "text": [
      "220.0\n",
      "440.0\n",
      "110.0\n"
     ]
    }
   ],
   "source": [
    "# we can also update the values\n",
    "\n",
    "for ticket,price in stock_prices:\n",
    "    print(price+0.1*price)"
   ]
  },
  {
   "cell_type": "code",
   "execution_count": 58,
   "metadata": {},
   "outputs": [],
   "source": [
    "# example of returning a tuple\n",
    "# first create a tuple to be passed for processing\n",
    "\n",
    "work_hours = [('Max',100),('John',400),('Harry',800)]"
   ]
  },
  {
   "cell_type": "code",
   "execution_count": 59,
   "metadata": {},
   "outputs": [],
   "source": [
    "# example of returning a tuple \n",
    "\n",
    "def employee_check(work_hours):\n",
    "    \n",
    "    # we make two variable 1st for comparing the hours\n",
    "    # with the tuples hours and then update it later\n",
    "    # 2nd variable for an empty string so that if \n",
    "    # some employees hours is more we can assign the \n",
    "    # employee name to it and later return it\n",
    "    \n",
    "    current_max = 0\n",
    "    employee_of_the_month = ''\n",
    "    \n",
    "    for employee,hours in work_hours:\n",
    "        if hours > current_max:\n",
    "            current_max = hours\n",
    "            employee_of_the_month = employee\n",
    "        else:\n",
    "            pass\n",
    "        \n",
    "    # then we return thr value when tuple ends\n",
    "    return(employee_of_the_month,hours)"
   ]
  },
  {
   "cell_type": "code",
   "execution_count": 60,
   "metadata": {},
   "outputs": [
    {
     "data": {
      "text/plain": [
       "('Harry', 800)"
      ]
     },
     "execution_count": 60,
     "metadata": {},
     "output_type": "execute_result"
    }
   ],
   "source": [
    "# when we call the fucntion we get the employee's\n",
    "# name and hour as a tuple\n",
    "\n",
    "employee_check(work_hours)"
   ]
  },
  {
   "cell_type": "code",
   "execution_count": 61,
   "metadata": {},
   "outputs": [],
   "source": [
    "# and we can also save the return part to a variable\n",
    "\n",
    "result_4 = employee_check(work_hours)"
   ]
  },
  {
   "cell_type": "code",
   "execution_count": 62,
   "metadata": {},
   "outputs": [
    {
     "data": {
      "text/plain": [
       "('Harry', 800)"
      ]
     },
     "execution_count": 62,
     "metadata": {},
     "output_type": "execute_result"
    }
   ],
   "source": [
    "# call the variable\n",
    "result_4"
   ]
  },
  {
   "cell_type": "code",
   "execution_count": 63,
   "metadata": {},
   "outputs": [],
   "source": [
    "# we can also separate the tuple or tuple unpacking \n",
    "# by saving it in unpacked way to the variables like\n",
    "\n",
    "name,hours = employee_check(work_hours)\n",
    "\n",
    "# as we call this fucntion the returned tuple gets \n",
    "# unpacked and gets saved in the variables so when we\n",
    "# call either of them we can get the returned value"
   ]
  },
  {
   "cell_type": "code",
   "execution_count": 64,
   "metadata": {},
   "outputs": [
    {
     "data": {
      "text/plain": [
       "'Harry'"
      ]
     },
     "execution_count": 64,
     "metadata": {},
     "output_type": "execute_result"
    }
   ],
   "source": [
    "name"
   ]
  },
  {
   "cell_type": "code",
   "execution_count": 65,
   "metadata": {},
   "outputs": [
    {
     "data": {
      "text/plain": [
       "800"
      ]
     },
     "execution_count": 65,
     "metadata": {},
     "output_type": "execute_result"
    }
   ],
   "source": [
    "hours"
   ]
  },
  {
   "cell_type": "code",
   "execution_count": 66,
   "metadata": {},
   "outputs": [
    {
     "data": {
      "text/plain": [
       "('Harry', 800)"
      ]
     },
     "execution_count": 66,
     "metadata": {},
     "output_type": "execute_result"
    }
   ],
   "source": [
    "# also result works still as we didnt changed it\n",
    "result_4"
   ]
  },
  {
   "cell_type": "code",
   "execution_count": 67,
   "metadata": {},
   "outputs": [
    {
     "ename": "ValueError",
     "evalue": "not enough values to unpack (expected 3, got 2)",
     "output_type": "error",
     "traceback": [
      "\u001b[1;31m---------------------------------------------------------------------------\u001b[0m",
      "\u001b[1;31mValueError\u001b[0m                                Traceback (most recent call last)",
      "\u001b[1;32m<ipython-input-67-1a91a44cbd2e>\u001b[0m in \u001b[0;36m<module>\u001b[1;34m\u001b[0m\n\u001b[0;32m      6\u001b[0m \u001b[1;31m# and expected 3 values but the tuple only had 2\u001b[0m\u001b[1;33m\u001b[0m\u001b[1;33m\u001b[0m\u001b[1;33m\u001b[0m\u001b[0m\n\u001b[0;32m      7\u001b[0m \u001b[1;33m\u001b[0m\u001b[0m\n\u001b[1;32m----> 8\u001b[1;33m \u001b[0mname\u001b[0m\u001b[1;33m,\u001b[0m\u001b[0mhours\u001b[0m\u001b[1;33m,\u001b[0m\u001b[0mlocation\u001b[0m \u001b[1;33m=\u001b[0m \u001b[0memployee_check\u001b[0m\u001b[1;33m(\u001b[0m\u001b[0mwork_hours\u001b[0m\u001b[1;33m)\u001b[0m\u001b[1;33m\u001b[0m\u001b[1;33m\u001b[0m\u001b[0m\n\u001b[0m",
      "\u001b[1;31mValueError\u001b[0m: not enough values to unpack (expected 3, got 2)"
     ]
    }
   ],
   "source": [
    "# now suppose if we want to know the location of the\n",
    "# employee who has worked more and is the employee of\n",
    "# the month so if we just pass another variable like\n",
    "# (location) we get an error which says that \n",
    "# (expected 3 ,got 2) which means we passed 3 varibale \n",
    "# and expected 3 values but the tuple only had 2 \n",
    "\n",
    "name,hours,location = employee_check(work_hours)"
   ]
  },
  {
   "cell_type": "code",
   "execution_count": 68,
   "metadata": {},
   "outputs": [],
   "source": [
    "# so to deal with this type of error what we do is that\n",
    "# we assign all the values of the tuple to a single \n",
    "# variable and get to know how many keys are there to \n",
    "# pass the required no. of variables so that the \n",
    "# mismatch doesnt occurs\n",
    "\n",
    "item = employee_check(work_hours)"
   ]
  },
  {
   "cell_type": "code",
   "execution_count": 69,
   "metadata": {},
   "outputs": [
    {
     "data": {
      "text/plain": [
       "('Harry', 800)"
      ]
     },
     "execution_count": 69,
     "metadata": {},
     "output_type": "execute_result"
    }
   ],
   "source": [
    "item"
   ]
  },
  {
   "cell_type": "markdown",
   "metadata": {},
   "source": [
    "INTERACTION BETWEEN PYTHON FUNCTIONS "
   ]
  },
  {
   "cell_type": "markdown",
   "metadata": {},
   "source": [
    "Typically a python script or notebook contains several \n",
    "functions interacting with each other\n",
    "so we are making the \"Three cup monte\" game\n",
    "\n",
    "here there are three cups and one cup has a ball inside it\n",
    "and we mix them and ask people to guess the cup which has\n",
    "the ball, though we wont be actually showing the cups and \n",
    "ball,and this code will not show the shuffle to the user,\n",
    "so the guess is completely random"
   ]
  },
  {
   "cell_type": "code",
   "execution_count": 70,
   "metadata": {},
   "outputs": [],
   "source": [
    "example_list = [1,2,3,4,5,6,7]"
   ]
  },
  {
   "cell_type": "code",
   "execution_count": 71,
   "metadata": {},
   "outputs": [],
   "source": [
    "# now import the shuffle function so it doesnt returns\n",
    "# anything just grabs the list and shuffles it\n",
    "\n",
    "from random import shuffle"
   ]
  },
  {
   "cell_type": "code",
   "execution_count": 72,
   "metadata": {},
   "outputs": [],
   "source": [
    "# we call the shuffle function to shuffle the list\n",
    "\n",
    "shuffle(example_list)"
   ]
  },
  {
   "cell_type": "code",
   "execution_count": 73,
   "metadata": {},
   "outputs": [
    {
     "data": {
      "text/plain": [
       "[1, 2, 7, 5, 3, 4, 6]"
      ]
     },
     "execution_count": 73,
     "metadata": {},
     "output_type": "execute_result"
    }
   ],
   "source": [
    "# and when we try to get the ouput we get shuffled list\n",
    "\n",
    "example_list"
   ]
  },
  {
   "cell_type": "code",
   "execution_count": 75,
   "metadata": {},
   "outputs": [],
   "source": [
    "# so as the suffle() function doesnt returns anything \n",
    "# and when we try to save the value of shuffled list\n",
    "# in a variable amd try to get the ouput of the\n",
    "# variable we get nothing as there is nothing returned\n",
    "# to the variable\n",
    "\n",
    "result_5 = shuffle(example_list)"
   ]
  },
  {
   "cell_type": "code",
   "execution_count": 76,
   "metadata": {},
   "outputs": [],
   "source": [
    "# when we call the variable we get nothing\n",
    "result_5"
   ]
  },
  {
   "cell_type": "code",
   "execution_count": 77,
   "metadata": {},
   "outputs": [],
   "source": [
    "# so we need to create our own function for this\n",
    "\n",
    "def shuffle_list(mylist):\n",
    "    shuffle(mylist)\n",
    "    return mylist"
   ]
  },
  {
   "cell_type": "code",
   "execution_count": 80,
   "metadata": {},
   "outputs": [],
   "source": [
    "# when we call the function by passing our example_list\n",
    "result_6  = shuffle_list(example_list)"
   ]
  },
  {
   "cell_type": "code",
   "execution_count": 81,
   "metadata": {},
   "outputs": [
    {
     "data": {
      "text/plain": [
       "[2, 5, 7, 1, 3, 6, 4]"
      ]
     },
     "execution_count": 81,
     "metadata": {},
     "output_type": "execute_result"
    }
   ],
   "source": [
    "# and when we call our variable we get the value\n",
    "result_6"
   ]
  },
  {
   "cell_type": "code",
   "execution_count": 85,
   "metadata": {},
   "outputs": [],
   "source": [
    "# so now we need to create a list which represents\n",
    "# 3 cups which are empty and among 3 one has a ball(O)\n",
    "\n",
    "my_list = [' ','O',' ']"
   ]
  },
  {
   "cell_type": "code",
   "execution_count": 86,
   "metadata": {},
   "outputs": [
    {
     "data": {
      "text/plain": [
       "['O', ' ', ' ']"
      ]
     },
     "execution_count": 86,
     "metadata": {},
     "output_type": "execute_result"
    }
   ],
   "source": [
    "# we use the shuffle function created to return the\n",
    "# shuffled value of (my_list),so that we can use it\n",
    "# later or can save it in variables as required later\n",
    "\n",
    "shuffle_list(my_list)"
   ]
  },
  {
   "cell_type": "code",
   "execution_count": 94,
   "metadata": {},
   "outputs": [],
   "source": [
    "def shuffle_list(my_list):\n",
    "    # takes in list and returns shuffled version\n",
    "    shuffle(my_list)\n",
    "    \n",
    "    return my_list"
   ]
  },
  {
   "cell_type": "code",
   "execution_count": 95,
   "metadata": {},
   "outputs": [],
   "source": [
    "# now we create a function so that it stores the \n",
    "# user imput of where the ball is present and we wont \n",
    "# display the real result where the ball actually is\n",
    "# until user passes the input\n",
    "\n",
    "def player_guess():\n",
    "    \n",
    "    # placeholder of user guess is this variable \n",
    "    # which will store the users input and comapre\n",
    "    # it with the shuffled value\n",
    "    \n",
    "    guess = ''\n",
    "    \n",
    "    # now we make a while loop that keeps on repeating\n",
    "    # the statement until the user guesses the values\n",
    "    # from (0,1 or 2)\n",
    "    \n",
    "    while guess not in ['0','1','2']:\n",
    "        guess = input(\"Pick a number : 0,1 or 2\")\n",
    "    \n",
    "    # if the guess of user is from (0,1 or 2) the store\n",
    "    # it in guess variable as showm above and then \n",
    "    # return or display the integer version of guess\n",
    "    # that is the index from (0,1 or 2) as input always\n",
    "    # returns a string so we type-cast it into int\n",
    "   \n",
    "    return int(guess)\n"
   ]
  },
  {
   "cell_type": "code",
   "execution_count": 96,
   "metadata": {},
   "outputs": [
    {
     "name": "stdout",
     "output_type": "stream",
     "text": [
      "Pick a number : 0,1 or 28\n",
      "Pick a number : 0,1 or 22\n"
     ]
    },
    {
     "data": {
      "text/plain": [
       "2"
      ]
     },
     "execution_count": 96,
     "metadata": {},
     "output_type": "execute_result"
    }
   ],
   "source": [
    "# call the function\n",
    "\n",
    "player_guess()"
   ]
  },
  {
   "cell_type": "code",
   "execution_count": 97,
   "metadata": {},
   "outputs": [
    {
     "name": "stdout",
     "output_type": "stream",
     "text": [
      "Pick a number : 0,1 or 23\n",
      "Pick a number : 0,1 or 21\n"
     ]
    }
   ],
   "source": [
    "# so to save it in variable \n",
    "\n",
    "my_index = player_guess()"
   ]
  },
  {
   "cell_type": "code",
   "execution_count": 98,
   "metadata": {},
   "outputs": [
    {
     "data": {
      "text/plain": [
       "1"
      ]
     },
     "execution_count": 98,
     "metadata": {},
     "output_type": "execute_result"
    }
   ],
   "source": [
    "my_index"
   ]
  },
  {
   "cell_type": "code",
   "execution_count": 99,
   "metadata": {},
   "outputs": [],
   "source": [
    "# so we one more function to check the user and shuffle\n",
    "# values\n",
    "\n",
    "# so we are passing the list(my_list) and the users guess\n",
    "# the (guess) variable which has the user's input\n",
    "# so that means we should have called the two functions \n",
    "# (shuffle_list) and (player_guess) functions before\n",
    "# calling this (check_guess) function so what we will do \n",
    "# is that at the end of this notebook we will write a \n",
    "# script that essentially calls the functions in the \n",
    "# correct order\n",
    "\n",
    "\n",
    "# here in the function we check (if) the value of \n",
    "# (my_list) at my [guess] index position is 'O'\n",
    "# then print correct or else wrong\n",
    "\n",
    "def check_guess(my_list,guess):\n",
    "    if my_list[guess] == 'O':\n",
    "        print(\"CORRECT\")\n",
    "    else:\n",
    "        print(\"WRONG GUESS\")\n",
    "        print(my_list)"
   ]
  },
  {
   "cell_type": "code",
   "execution_count": 101,
   "metadata": {},
   "outputs": [
    {
     "name": "stdout",
     "output_type": "stream",
     "text": [
      "Pick a number : 0,1 or 22\n",
      "WRONG GUESS\n",
      "['O', ' ', ' ']\n"
     ]
    }
   ],
   "source": [
    "# now we call all the functions systematically\n",
    "\n",
    "# INITIAL LIST \n",
    "my_list = [' ','O',' ']\n",
    "\n",
    "# SHUFFLE LIST\n",
    "mixed_up_list = shuffle_list(my_list)\n",
    "\n",
    "# USER LIST\n",
    "guess = player_guess()\n",
    "\n",
    "# CHECK LIST\n",
    "check_guess(mixed_up_list,guess)"
   ]
  },
  {
   "cell_type": "code",
   "execution_count": null,
   "metadata": {},
   "outputs": [],
   "source": []
  }
 ],
 "metadata": {
  "kernelspec": {
   "display_name": "Python 3",
   "language": "python",
   "name": "python3"
  },
  "language_info": {
   "codemirror_mode": {
    "name": "ipython",
    "version": 3
   },
   "file_extension": ".py",
   "mimetype": "text/x-python",
   "name": "python",
   "nbconvert_exporter": "python",
   "pygments_lexer": "ipython3",
   "version": "3.8.3"
  }
 },
 "nbformat": 4,
 "nbformat_minor": 4
}
